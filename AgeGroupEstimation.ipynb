{
 "cells": [
  {
   "cell_type": "code",
   "execution_count": 1,
   "id": "142fa5ec",
   "metadata": {},
   "outputs": [
    {
     "name": "stderr",
     "output_type": "stream",
     "text": [
      "Using TensorFlow backend.\n",
      "/Users/cansumoran/opt/anaconda3/envs/AI_keras_env/lib/python3.7/site-packages/tensorflow/python/framework/dtypes.py:526: FutureWarning: Passing (type, 1) or '1type' as a synonym of type is deprecated; in a future version of numpy, it will be understood as (type, (1,)) / '(1,)type'.\n",
      "  _np_qint8 = np.dtype([(\"qint8\", np.int8, 1)])\n",
      "/Users/cansumoran/opt/anaconda3/envs/AI_keras_env/lib/python3.7/site-packages/tensorflow/python/framework/dtypes.py:527: FutureWarning: Passing (type, 1) or '1type' as a synonym of type is deprecated; in a future version of numpy, it will be understood as (type, (1,)) / '(1,)type'.\n",
      "  _np_quint8 = np.dtype([(\"quint8\", np.uint8, 1)])\n",
      "/Users/cansumoran/opt/anaconda3/envs/AI_keras_env/lib/python3.7/site-packages/tensorflow/python/framework/dtypes.py:528: FutureWarning: Passing (type, 1) or '1type' as a synonym of type is deprecated; in a future version of numpy, it will be understood as (type, (1,)) / '(1,)type'.\n",
      "  _np_qint16 = np.dtype([(\"qint16\", np.int16, 1)])\n",
      "/Users/cansumoran/opt/anaconda3/envs/AI_keras_env/lib/python3.7/site-packages/tensorflow/python/framework/dtypes.py:529: FutureWarning: Passing (type, 1) or '1type' as a synonym of type is deprecated; in a future version of numpy, it will be understood as (type, (1,)) / '(1,)type'.\n",
      "  _np_quint16 = np.dtype([(\"quint16\", np.uint16, 1)])\n",
      "/Users/cansumoran/opt/anaconda3/envs/AI_keras_env/lib/python3.7/site-packages/tensorflow/python/framework/dtypes.py:530: FutureWarning: Passing (type, 1) or '1type' as a synonym of type is deprecated; in a future version of numpy, it will be understood as (type, (1,)) / '(1,)type'.\n",
      "  _np_qint32 = np.dtype([(\"qint32\", np.int32, 1)])\n",
      "/Users/cansumoran/opt/anaconda3/envs/AI_keras_env/lib/python3.7/site-packages/tensorflow/python/framework/dtypes.py:535: FutureWarning: Passing (type, 1) or '1type' as a synonym of type is deprecated; in a future version of numpy, it will be understood as (type, (1,)) / '(1,)type'.\n",
      "  np_resource = np.dtype([(\"resource\", np.ubyte, 1)])\n"
     ]
    }
   ],
   "source": [
    "import os\n",
    "import keras"
   ]
  },
  {
   "cell_type": "code",
   "execution_count": 2,
   "id": "1f86d36f",
   "metadata": {},
   "outputs": [],
   "source": [
    "import os, os.path, math"
   ]
  },
  {
   "cell_type": "code",
   "execution_count": 3,
   "id": "afc63e0a",
   "metadata": {},
   "outputs": [
    {
     "name": "stdout",
     "output_type": "stream",
     "text": [
      "0 age is missing: 94\n",
      "0 age is missing: 97\n",
      "0 age is missing: 98\n",
      "0 age is missing: 102\n",
      "1 age is missing: 103\n",
      "0 age is missing: 104\n",
      "0 age is missing: 106\n",
      "0 age is missing: 107\n",
      "0 age is missing: 108\n",
      "0 age is missing: 109\n",
      "1 age is missing: 111\n",
      "0 age is missing: 112\n",
      "0 age is missing: 113\n",
      "0 age is missing: 114\n"
     ]
    }
   ],
   "source": [
    "import random\n",
    "from os import path\n",
    "import shutil"
   ]
  },
  {
   "cell_type": "code",
   "execution_count": 4,
   "id": "291283a7",
   "metadata": {},
   "outputs": [],
   "source": [
    "for root, dirs, files in os.walk('./UTKFace/'):\n",
    "    for file in files:\n",
    "        label = file.split('_')[0]\n",
    "        label_folder = './UTKFace/'\n",
    "        if(int(label) < 15):\n",
    "            label_folder = label_folder + 'child'\n",
    "        elif(int(label) < 65):\n",
    "            label_folder = label_folder + 'adult'\n",
    "        else:\n",
    "            label_folder = label_folder + 'elder'\n",
    "            \n",
    "        '''if int(label) in missing_ages:\n",
    "            #remove the picture\n",
    "            os.remove( './UTKFace/' + file)\n",
    "            print(\"here\")\n",
    "            continue '''\n",
    "        \n",
    "        if not path.exists(label_folder):\n",
    "            os.mkdir(label_folder)\n",
    "        \n",
    "        shutil.move(os.path.join(root, file), label_folder)\n"
   ]
  },
  {
   "cell_type": "code",
   "execution_count": 5,
   "id": "340c00f7",
   "metadata": {},
   "outputs": [
    {
     "data": {
      "text/plain": [
       "3"
      ]
     },
     "execution_count": 5,
     "metadata": {},
     "output_type": "execute_result"
    }
   ],
   "source": [
    "len(os.listdir('./UTKFace/'))"
   ]
  },
  {
   "cell_type": "code",
   "execution_count": 6,
   "id": "e916ff82",
   "metadata": {},
   "outputs": [],
   "source": [
    "training_folder = './training_data'\n",
    "if not path.exists(training_folder):\n",
    "    os.mkdir(training_folder)\n",
    "    \n",
    "validation_folder = './validation_data'\n",
    "if not path.exists(validation_folder):\n",
    "    os.mkdir(validation_folder)\n",
    "    \n",
    "for root, dirs, files in os.walk('./UTKFace/'):\n",
    "    for directory in dirs:\n",
    "        training_labels = './training_data/' + directory\n",
    "        validation_labels = './validation_data/' + directory\n",
    "        \n",
    "        if not path.exists(training_labels):\n",
    "            os.mkdir(training_labels)\n",
    "        \n",
    "        if not path.exists(validation_labels):\n",
    "            os.mkdir(validation_labels)\n",
    "        "
   ]
  },
  {
   "cell_type": "code",
   "execution_count": 7,
   "id": "1db0370f",
   "metadata": {},
   "outputs": [],
   "source": [
    "all_pictures = 0\n",
    "picture_names = []\n",
    "for root, dirs, files in os.walk('./UTKFace/'):\n",
    "    for file in files:\n",
    "        all_pictures = all_pictures + 1\n",
    "        picture_names.append(os.path.join(root, file))"
   ]
  },
  {
   "cell_type": "code",
   "execution_count": 8,
   "id": "056638df",
   "metadata": {},
   "outputs": [
    {
     "name": "stdout",
     "output_type": "stream",
     "text": [
      "16595\n",
      "7113\n"
     ]
    }
   ],
   "source": [
    "#floor function is used to get an integer number of pictures\n",
    "training_number = math.floor(all_pictures * 70 / 100) # 70% of the pictures will be used as training data \n",
    "validation_number = all_pictures - training_number # 30% of the pictures will be used as validation data \n",
    "\n",
    "print(training_number)\n",
    "print(validation_number)"
   ]
  },
  {
   "cell_type": "code",
   "execution_count": 12,
   "id": "09cf9785",
   "metadata": {},
   "outputs": [
    {
     "name": "stdout",
     "output_type": "stream",
     "text": [
      "adult\n"
     ]
    },
    {
     "ename": "Error",
     "evalue": "Destination path './training_data/adult/38_1_3_20170117121011234.jpg.chip.jpg' already exists",
     "output_type": "error",
     "traceback": [
      "\u001b[0;31m---------------------------------------------------------------------------\u001b[0m",
      "\u001b[0;31mError\u001b[0m                                     Traceback (most recent call last)",
      "\u001b[0;32m<ipython-input-12-6a6227e0a23a>\u001b[0m in \u001b[0;36m<module>\u001b[0;34m\u001b[0m\n\u001b[1;32m      7\u001b[0m         \u001b[0;31m#move the picture to training data folder\u001b[0m\u001b[0;34m\u001b[0m\u001b[0;34m\u001b[0m\u001b[0;34m\u001b[0m\u001b[0m\n\u001b[1;32m      8\u001b[0m         \u001b[0mprint\u001b[0m\u001b[0;34m(\u001b[0m\u001b[0mpicture_names\u001b[0m\u001b[0;34m[\u001b[0m\u001b[0mi\u001b[0m\u001b[0;34m]\u001b[0m\u001b[0;34m.\u001b[0m\u001b[0msplit\u001b[0m\u001b[0;34m(\u001b[0m\u001b[0;34m'/'\u001b[0m\u001b[0;34m)\u001b[0m\u001b[0;34m[\u001b[0m\u001b[0;36m2\u001b[0m\u001b[0;34m]\u001b[0m\u001b[0;34m)\u001b[0m\u001b[0;34m\u001b[0m\u001b[0;34m\u001b[0m\u001b[0m\n\u001b[0;32m----> 9\u001b[0;31m         \u001b[0mshutil\u001b[0m\u001b[0;34m.\u001b[0m\u001b[0mmove\u001b[0m\u001b[0;34m(\u001b[0m\u001b[0mpicture_names\u001b[0m\u001b[0;34m[\u001b[0m\u001b[0mi\u001b[0m\u001b[0;34m]\u001b[0m\u001b[0;34m,\u001b[0m \u001b[0;34m'./training_data/'\u001b[0m \u001b[0;34m+\u001b[0m \u001b[0mpicture_names\u001b[0m\u001b[0;34m[\u001b[0m\u001b[0mi\u001b[0m\u001b[0;34m]\u001b[0m\u001b[0;34m.\u001b[0m\u001b[0msplit\u001b[0m\u001b[0;34m(\u001b[0m\u001b[0;34m'/'\u001b[0m\u001b[0;34m)\u001b[0m\u001b[0;34m[\u001b[0m\u001b[0;36m2\u001b[0m\u001b[0;34m]\u001b[0m\u001b[0;34m)\u001b[0m\u001b[0;34m\u001b[0m\u001b[0;34m\u001b[0m\u001b[0m\n\u001b[0m\u001b[1;32m     10\u001b[0m     \u001b[0;32melse\u001b[0m\u001b[0;34m:\u001b[0m\u001b[0;34m\u001b[0m\u001b[0;34m\u001b[0m\u001b[0m\n\u001b[1;32m     11\u001b[0m         \u001b[0;31m#move the picture to validation data folder\u001b[0m\u001b[0;34m\u001b[0m\u001b[0;34m\u001b[0m\u001b[0;34m\u001b[0m\u001b[0m\n",
      "\u001b[0;32m~/opt/anaconda3/envs/AI_keras_env/lib/python3.7/shutil.py\u001b[0m in \u001b[0;36mmove\u001b[0;34m(src, dst, copy_function)\u001b[0m\n\u001b[1;32m    562\u001b[0m         \u001b[0mreal_dst\u001b[0m \u001b[0;34m=\u001b[0m \u001b[0mos\u001b[0m\u001b[0;34m.\u001b[0m\u001b[0mpath\u001b[0m\u001b[0;34m.\u001b[0m\u001b[0mjoin\u001b[0m\u001b[0;34m(\u001b[0m\u001b[0mdst\u001b[0m\u001b[0;34m,\u001b[0m \u001b[0m_basename\u001b[0m\u001b[0;34m(\u001b[0m\u001b[0msrc\u001b[0m\u001b[0;34m)\u001b[0m\u001b[0;34m)\u001b[0m\u001b[0;34m\u001b[0m\u001b[0;34m\u001b[0m\u001b[0m\n\u001b[1;32m    563\u001b[0m         \u001b[0;32mif\u001b[0m \u001b[0mos\u001b[0m\u001b[0;34m.\u001b[0m\u001b[0mpath\u001b[0m\u001b[0;34m.\u001b[0m\u001b[0mexists\u001b[0m\u001b[0;34m(\u001b[0m\u001b[0mreal_dst\u001b[0m\u001b[0;34m)\u001b[0m\u001b[0;34m:\u001b[0m\u001b[0;34m\u001b[0m\u001b[0;34m\u001b[0m\u001b[0m\n\u001b[0;32m--> 564\u001b[0;31m             \u001b[0;32mraise\u001b[0m \u001b[0mError\u001b[0m\u001b[0;34m(\u001b[0m\u001b[0;34m\"Destination path '%s' already exists\"\u001b[0m \u001b[0;34m%\u001b[0m \u001b[0mreal_dst\u001b[0m\u001b[0;34m)\u001b[0m\u001b[0;34m\u001b[0m\u001b[0;34m\u001b[0m\u001b[0m\n\u001b[0m\u001b[1;32m    565\u001b[0m     \u001b[0;32mtry\u001b[0m\u001b[0;34m:\u001b[0m\u001b[0;34m\u001b[0m\u001b[0;34m\u001b[0m\u001b[0m\n\u001b[1;32m    566\u001b[0m         \u001b[0mos\u001b[0m\u001b[0;34m.\u001b[0m\u001b[0mrename\u001b[0m\u001b[0;34m(\u001b[0m\u001b[0msrc\u001b[0m\u001b[0;34m,\u001b[0m \u001b[0mreal_dst\u001b[0m\u001b[0;34m)\u001b[0m\u001b[0;34m\u001b[0m\u001b[0;34m\u001b[0m\u001b[0m\n",
      "\u001b[0;31mError\u001b[0m: Destination path './training_data/adult/38_1_3_20170117121011234.jpg.chip.jpg' already exists"
     ]
    }
   ],
   "source": [
    "#randomize the picture names list so that when they are seperated into training, validation and test files \n",
    "#they will be distributed randomly\n",
    "random.shuffle(picture_names)\n",
    "\n",
    "for i in range (all_pictures):\n",
    "    if(i < training_number):\n",
    "        #move the picture to training data folder\n",
    "        print(picture_names[i].split('/')[2])\n",
    "        shutil.move(picture_names[i], './training_data/' + picture_names[i].split('/')[2])\n",
    "    else:\n",
    "        #move the picture to validation data folder\n",
    "        shutil.move(picture_names[i], './validation_data/' + picture_names[i].split('/')[2])\n",
    "\n"
   ]
  },
  {
   "cell_type": "code",
   "execution_count": 11,
   "id": "c9e979df",
   "metadata": {},
   "outputs": [
    {
     "name": "stdout",
     "output_type": "stream",
     "text": [
      "3\n",
      "3\n"
     ]
    }
   ],
   "source": [
    "#check if the number of pictures in the folders to make sure the seperation is correct\n",
    "#print(len(os.listdir('./test_data/')))\n",
    "print(len(os.listdir('./validation_data')))\n",
    "print(len(os.listdir('./training_data')))"
   ]
  },
  {
   "cell_type": "code",
   "execution_count": 13,
   "id": "8b8dc5f0",
   "metadata": {},
   "outputs": [
    {
     "data": {
      "text/plain": [
       "\"\\nfor root, dirs, files in os.walk('./training_data/'):\\n    for file in files:\\n        label = file.split('_')[0]\\n        label_folder = './training_data/' + label\\n        print(label_folder)\\n        \\n        if not path.exists(label_folder):\\n            os.mkdir(label_folder)\\n            \\n        shutil.move(os.path.join(root, file), label_folder)\\n\\n        \\nfor root, dirs, files in os.walk('./validation_data/'):\\n    for file in files:\\n        label = file.split('_')[0]\\n        label_folder = './validation_data/' + label\\n        \\n        if not path.exists(label_folder):\\n            os.mkdir(label_folder)\\n        \\n        shutil.move(os.path.join(root, file), label_folder)\\n\""
      ]
     },
     "execution_count": 13,
     "metadata": {},
     "output_type": "execute_result"
    }
   ],
   "source": [
    "#seperate the pictures into classes \n",
    "'''\n",
    "for root, dirs, files in os.walk('./training_data/'):\n",
    "    for file in files:\n",
    "        label = file.split('_')[0]\n",
    "        label_folder = './training_data/' + label\n",
    "        print(label_folder)\n",
    "        \n",
    "        if not path.exists(label_folder):\n",
    "            os.mkdir(label_folder)\n",
    "            \n",
    "        shutil.move(os.path.join(root, file), label_folder)\n",
    "\n",
    "        \n",
    "for root, dirs, files in os.walk('./validation_data/'):\n",
    "    for file in files:\n",
    "        label = file.split('_')[0]\n",
    "        label_folder = './validation_data/' + label\n",
    "        \n",
    "        if not path.exists(label_folder):\n",
    "            os.mkdir(label_folder)\n",
    "        \n",
    "        shutil.move(os.path.join(root, file), label_folder)\n",
    "'''"
   ]
  },
  {
   "cell_type": "code",
   "execution_count": 3,
   "id": "75f6beec",
   "metadata": {},
   "outputs": [
    {
     "name": "stdout",
     "output_type": "stream",
     "text": [
      "Found 16595 images belonging to 3 classes.\n",
      "Found 7113 images belonging to 3 classes.\n",
      "data batch shape: (20, 200, 200, 3)\n",
      "labels batch shape: (20, 3)\n"
     ]
    }
   ],
   "source": [
    "from keras.preprocessing.image import ImageDataGenerator\n",
    "\n",
    "# All images will be rescaled by 1./255\n",
    "train_datagen = ImageDataGenerator(rescale=1./255)\n",
    "test_datagen = ImageDataGenerator(rescale=1./255)\n",
    "\n",
    "train_generator = train_datagen.flow_from_directory(\n",
    "        # This is the target directory\n",
    "        './training_data',\n",
    "        target_size=(200, 200),\n",
    "        batch_size=20,\n",
    "        class_mode='categorical')\n",
    "\n",
    "validation_generator = test_datagen.flow_from_directory(\n",
    "        './validation_data',\n",
    "        target_size=(200, 200),\n",
    "        batch_size=20,\n",
    "        class_mode='categorical')\n",
    "\n",
    "for data_batch, labels_batch in train_generator:\n",
    "    print('data batch shape:', data_batch.shape)\n",
    "    print('labels batch shape:', labels_batch.shape)\n",
    "    break\n"
   ]
  },
  {
   "cell_type": "code",
   "execution_count": 4,
   "id": "2651dce9",
   "metadata": {},
   "outputs": [
    {
     "name": "stdout",
     "output_type": "stream",
     "text": [
      "WARNING:tensorflow:From /Users/cansumoran/opt/anaconda3/envs/AI_keras_env/lib/python3.7/site-packages/tensorflow/python/framework/op_def_library.py:263: colocate_with (from tensorflow.python.framework.ops) is deprecated and will be removed in a future version.\n",
      "Instructions for updating:\n",
      "Colocations handled automatically by placer.\n",
      "_________________________________________________________________\n",
      "Layer (type)                 Output Shape              Param #   \n",
      "=================================================================\n",
      "conv2d_1 (Conv2D)            (None, 198, 198, 32)      896       \n",
      "_________________________________________________________________\n",
      "max_pooling2d_1 (MaxPooling2 (None, 99, 99, 32)        0         \n",
      "_________________________________________________________________\n",
      "conv2d_2 (Conv2D)            (None, 97, 97, 64)        18496     \n",
      "_________________________________________________________________\n",
      "max_pooling2d_2 (MaxPooling2 (None, 48, 48, 64)        0         \n",
      "_________________________________________________________________\n",
      "conv2d_3 (Conv2D)            (None, 46, 46, 128)       73856     \n",
      "_________________________________________________________________\n",
      "flatten_1 (Flatten)          (None, 270848)            0         \n",
      "_________________________________________________________________\n",
      "dense_1 (Dense)              (None, 128)               34668672  \n",
      "_________________________________________________________________\n",
      "dense_2 (Dense)              (None, 3)                 387       \n",
      "=================================================================\n",
      "Total params: 34,762,307\n",
      "Trainable params: 34,762,307\n",
      "Non-trainable params: 0\n",
      "_________________________________________________________________\n"
     ]
    }
   ],
   "source": [
    "from keras import layers\n",
    "from keras import models\n",
    "\n",
    "\n",
    "model = models.Sequential()\n",
    "model.add(layers.Conv2D(32, (3, 3), activation='relu', input_shape=(200, 200, 3)))\n",
    "model.add(layers.MaxPooling2D((2, 2)))\n",
    "model.add(layers.Conv2D(64, (3, 3), activation='relu'))\n",
    "model.add(layers.MaxPooling2D((2, 2)))\n",
    "model.add(layers.Conv2D(128, (3, 3), activation='relu'))\n",
    "model.add(layers.Flatten())\n",
    "model.add(layers.Dense(128, activation='relu'))\n",
    "model.add(layers.Dense(3, activation='softmax'))\n",
    "\n",
    "model.summary()"
   ]
  },
  {
   "cell_type": "code",
   "execution_count": 5,
   "id": "fbcb59b6",
   "metadata": {},
   "outputs": [],
   "source": [
    "from keras import optimizers\n",
    "\n",
    "model.compile(loss='categorical_crossentropy',\n",
    "              optimizer=optimizers.RMSprop(lr=1e-4),\n",
    "              metrics=['acc'])"
   ]
  },
  {
   "cell_type": "code",
   "execution_count": 6,
   "id": "0f85c3cd",
   "metadata": {},
   "outputs": [
    {
     "name": "stdout",
     "output_type": "stream",
     "text": [
      "WARNING:tensorflow:From /Users/cansumoran/opt/anaconda3/envs/AI_keras_env/lib/python3.7/site-packages/tensorflow/python/ops/math_ops.py:3066: to_int32 (from tensorflow.python.ops.math_ops) is deprecated and will be removed in a future version.\n",
      "Instructions for updating:\n",
      "Use tf.cast instead.\n",
      "Epoch 1/30\n",
      "100/100 [==============================] - 181s 2s/step - loss: 0.6762 - acc: 0.7780 - val_loss: 0.5941 - val_acc: 0.8050\n",
      "Epoch 2/30\n",
      "100/100 [==============================] - 183s 2s/step - loss: 0.4360 - acc: 0.8565 - val_loss: 0.3969 - val_acc: 0.8570\n",
      "Epoch 3/30\n",
      "100/100 [==============================] - 182s 2s/step - loss: 0.3832 - acc: 0.8690 - val_loss: 0.3623 - val_acc: 0.8610\n",
      "Epoch 4/30\n",
      "100/100 [==============================] - 189s 2s/step - loss: 0.3509 - acc: 0.8725 - val_loss: 0.3677 - val_acc: 0.8700\n",
      "Epoch 5/30\n",
      "100/100 [==============================] - 190s 2s/step - loss: 0.3223 - acc: 0.8815 - val_loss: 0.3795 - val_acc: 0.8630\n",
      "Epoch 6/30\n",
      "100/100 [==============================] - 190s 2s/step - loss: 0.3135 - acc: 0.8845 - val_loss: 0.2881 - val_acc: 0.8960\n",
      "Epoch 7/30\n",
      "100/100 [==============================] - 214s 2s/step - loss: 0.3157 - acc: 0.8865 - val_loss: 0.2645 - val_acc: 0.9060\n",
      "Epoch 8/30\n",
      "100/100 [==============================] - 192s 2s/step - loss: 0.2935 - acc: 0.8950 - val_loss: 0.2689 - val_acc: 0.9043\n",
      "Epoch 9/30\n",
      "100/100 [==============================] - 195s 2s/step - loss: 0.2578 - acc: 0.9045 - val_loss: 0.2788 - val_acc: 0.8960\n",
      "Epoch 10/30\n",
      "100/100 [==============================] - 196s 2s/step - loss: 0.2520 - acc: 0.9100 - val_loss: 0.2524 - val_acc: 0.8980\n",
      "Epoch 11/30\n",
      "100/100 [==============================] - 193s 2s/step - loss: 0.2485 - acc: 0.9050 - val_loss: 0.3508 - val_acc: 0.8690\n",
      "Epoch 12/30\n",
      "100/100 [==============================] - 193s 2s/step - loss: 0.2409 - acc: 0.9125 - val_loss: 0.2602 - val_acc: 0.9130\n",
      "Epoch 13/30\n",
      "100/100 [==============================] - 208s 2s/step - loss: 0.2590 - acc: 0.9020 - val_loss: 0.2882 - val_acc: 0.8990\n",
      "Epoch 14/30\n",
      "100/100 [==============================] - 202s 2s/step - loss: 0.2406 - acc: 0.9070 - val_loss: 0.2431 - val_acc: 0.9250\n",
      "Epoch 15/30\n",
      "100/100 [==============================] - 187s 2s/step - loss: 0.2174 - acc: 0.9215 - val_loss: 0.2512 - val_acc: 0.9114\n",
      "Epoch 16/30\n",
      "100/100 [==============================] - 178s 2s/step - loss: 0.2513 - acc: 0.9135 - val_loss: 0.3096 - val_acc: 0.8780\n",
      "Epoch 17/30\n",
      "100/100 [==============================] - 193s 2s/step - loss: 0.2575 - acc: 0.9032 - val_loss: 0.2465 - val_acc: 0.9100\n",
      "Epoch 18/30\n",
      "100/100 [==============================] - 176s 2s/step - loss: 0.1963 - acc: 0.9300 - val_loss: 0.2541 - val_acc: 0.9100\n",
      "Epoch 19/30\n",
      "100/100 [==============================] - 189s 2s/step - loss: 0.2175 - acc: 0.9205 - val_loss: 0.3460 - val_acc: 0.8600\n",
      "Epoch 20/30\n",
      "100/100 [==============================] - 188s 2s/step - loss: 0.2316 - acc: 0.9200 - val_loss: 0.2535 - val_acc: 0.9020\n",
      "Epoch 21/30\n",
      "100/100 [==============================] - 184s 2s/step - loss: 0.1958 - acc: 0.9195 - val_loss: 0.2392 - val_acc: 0.9130\n",
      "Epoch 22/30\n",
      "100/100 [==============================] - 184s 2s/step - loss: 0.2120 - acc: 0.9295 - val_loss: 0.2512 - val_acc: 0.9033\n",
      "Epoch 23/30\n",
      "100/100 [==============================] - 654s 7s/step - loss: 0.1931 - acc: 0.9275 - val_loss: 0.2318 - val_acc: 0.9230\n",
      "Epoch 24/30\n",
      "100/100 [==============================] - 171s 2s/step - loss: 0.2114 - acc: 0.9265 - val_loss: 0.2911 - val_acc: 0.9070\n",
      "Epoch 25/30\n",
      "100/100 [==============================] - 198s 2s/step - loss: 0.2060 - acc: 0.9178 - val_loss: 0.2469 - val_acc: 0.9080\n",
      "Epoch 26/30\n",
      "100/100 [==============================] - 211s 2s/step - loss: 0.1726 - acc: 0.9425 - val_loss: 0.3746 - val_acc: 0.9010\n",
      "Epoch 27/30\n",
      "100/100 [==============================] - 178s 2s/step - loss: 0.1776 - acc: 0.9365 - val_loss: 0.2436 - val_acc: 0.9060\n",
      "Epoch 28/30\n",
      "100/100 [==============================] - 175s 2s/step - loss: 0.1801 - acc: 0.9260 - val_loss: 0.2527 - val_acc: 0.9180\n",
      "Epoch 29/30\n",
      "100/100 [==============================] - 173s 2s/step - loss: 0.1757 - acc: 0.9350 - val_loss: 0.2903 - val_acc: 0.9074\n",
      "Epoch 30/30\n",
      "100/100 [==============================] - 180s 2s/step - loss: 0.1838 - acc: 0.9300 - val_loss: 0.2520 - val_acc: 0.9000\n"
     ]
    }
   ],
   "source": [
    "history = model.fit_generator(\n",
    "      train_generator,\n",
    "      steps_per_epoch=100,\n",
    "      epochs=30,\n",
    "      validation_data=validation_generator,\n",
    "      validation_steps=50)"
   ]
  },
  {
   "cell_type": "code",
   "execution_count": 7,
   "id": "ff79f8bf",
   "metadata": {},
   "outputs": [
    {
     "data": {
      "image/png": "[encoded data removed]",
      "text/plain": [
       "<Figure size 432x288 with 1 Axes>"
      ]
     },
     "metadata": {
      "needs_background": "light"
     },
     "output_type": "display_data"
    },
    {
     "data": {
      "image/png": "[encoded data removed]",
      "text/plain": [
       "<Figure size 432x288 with 1 Axes>"
      ]
     },
     "metadata": {
      "needs_background": "light"
     },
     "output_type": "display_data"
    }
   ],
   "source": [
    "import matplotlib.pyplot as plt\n",
    "\n",
    "acc = history.history['acc']\n",
    "val_acc = history.history['val_acc']\n",
    "loss = history.history['loss']\n",
    "val_loss = history.history['val_loss']\n",
    "\n",
    "epochs = range(len(acc))\n",
    "\n",
    "plt.plot(epochs, acc, 'bo', label='Training acc')\n",
    "plt.plot(epochs, val_acc, 'b', label='Validation acc')\n",
    "plt.title('Training and validation accuracy')\n",
    "plt.legend()\n",
    "\n",
    "plt.figure()\n",
    "\n",
    "plt.plot(epochs, loss, 'bo', label='Training loss')\n",
    "plt.plot(epochs, val_loss, 'b', label='Validation loss')\n",
    "plt.title('Training and validation loss')\n",
    "plt.legend()\n",
    "\n",
    "plt.show()"
   ]
  },
  {
   "cell_type": "code",
   "execution_count": null,
   "id": "ee1e0e9e",
   "metadata": {},
   "outputs": [],
   "source": []
  }
 ],
 "metadata": {
  "kernelspec": {
   "display_name": "Python 3",
   "language": "python",
   "name": "python3"
  },
  "language_info": {
   "codemirror_mode": {
    "name": "ipython",
    "version": 3
   },
   "file_extension": ".py",
   "mimetype": "text/x-python",
   "name": "python",
   "nbconvert_exporter": "python",
   "pygments_lexer": "ipython3",
   "version": "3.7.9"
  }
 },
 "nbformat": 4,
 "nbformat_minor": 5
}
